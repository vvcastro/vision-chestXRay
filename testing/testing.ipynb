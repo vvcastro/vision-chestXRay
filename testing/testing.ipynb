{
 "cells": [
  {
   "cell_type": "code",
   "execution_count": null,
   "metadata": {
    "tags": []
   },
   "outputs": [],
   "source": [
    "# download testing dataset\n",
    "!gdown --id 1DFskNCXvHKdHhuaQtCevyoILci-pmNEO"
   ]
  },
  {
   "cell_type": "code",
   "execution_count": 34,
   "metadata": {
    "executionInfo": {
     "elapsed": 11991,
     "status": "ok",
     "timestamp": 1674581221399,
     "user": {
      "displayName": "Vicente Castro",
      "userId": "02943233680137416518"
     },
     "user_tz": -60
    },
    "id": "XewnmU9Fm6qC",
    "tags": []
   },
   "outputs": [],
   "source": [
    "import zipfile\n",
    "import os\n",
    "\n",
    "TEST_DATA_DIR = os.path.join('..', 'data', 'test')\n",
    "# with zipfile.ZipFile('test_set.zip', 'r') as zip_ref:\n",
    "#     zip_ref.extractall(TEST_DATA_DIR)\n",
    "TEST_FILENAMES = os.listdir( TEST_DATA_DIR )"
   ]
  },
  {
   "cell_type": "markdown",
   "metadata": {
    "id": "IC9udu3RX115"
   },
   "source": [
    "# Testing script:\n",
    "\n",
    "We load the model and the testing dataset. Make predictions and, in the case of labels being present, compute the score.\n"
   ]
  },
  {
   "cell_type": "code",
   "execution_count": 31,
   "metadata": {
    "executionInfo": {
     "elapsed": 424,
     "status": "ok",
     "timestamp": 1674581838230,
     "user": {
      "displayName": "Vicente Castro",
      "userId": "02943233680137416518"
     },
     "user_tz": -60
    },
    "id": "PbK5GUAeWTZk",
    "tags": []
   },
   "outputs": [],
   "source": [
    "from tensorflow.keras import layers\n",
    "from tensorflow import keras\n",
    "import tensorflow as tf\n",
    "\n",
    "from IPython.display import Image, display\n",
    "from tqdm import tqdm\n",
    "import seaborn as sns\n",
    "import matplotlib.pyplot as plt\n",
    "import matplotlib.cm as cm\n",
    "import pandas as pd\n",
    "import numpy as np\n",
    "import os\n",
    "\n",
    "sns.set_style('darkgrid')\n",
    "\n",
    "BASE_DATA_DIR = os.path.join('..', 'data', 'train')\n",
    "MODEL_PATH = os.path.join('best_model')\n",
    "TESTING_SET_FILE = os.path.join('..', 'data', 'testing_set.csv')\n",
    "\n",
    "# Identify testing data\n",
    "# TEST_DATA_DIR = os.path.join('..', 'data', 'train')\n",
    "# TEST_FILENAMES = pd.read_csv( TESTING_SET_FILE )['file'].values\n",
    "\n",
    "## PARAMS\n",
    "IMAGE_SIZE = 224"
   ]
  },
  {
   "cell_type": "markdown",
   "metadata": {
    "id": "pInm5Jt4GAdI"
   },
   "source": [
    "## 01. Model Loading/Definition:"
   ]
  },
  {
   "cell_type": "code",
   "execution_count": 32,
   "metadata": {
    "executionInfo": {
     "elapsed": 3119,
     "status": "ok",
     "timestamp": 1674581880753,
     "user": {
      "displayName": "Vicente Castro",
      "userId": "02943233680137416518"
     },
     "user_tz": -60
    },
    "id": "kpIsGDMzWWKW",
    "tags": []
   },
   "outputs": [],
   "source": [
    "def load_cnn_model(model_path):\n",
    "    return keras.models.load_model(model_path, custom_objects={'macro_f1': None})\n",
    "\n",
    "def load_image( image_path, img_size=(IMAGE_SIZE, IMAGE_SIZE)):\n",
    "    \"\"\" Loads a random image for the patient\"\"\"\n",
    "    img = tf.io.read_file( image_path )\n",
    "    img = tf.io.decode_image( img, channels=3, expand_animations=False )\n",
    "    img = tf.image.resize( img, img_size )\n",
    "    return img\n",
    "\n",
    "CLASS_NAMES = np.array(['N', 'P', 'T'])\n",
    "final_model = load_cnn_model(MODEL_PATH)"
   ]
  },
  {
   "cell_type": "markdown",
   "metadata": {
    "id": "FOsFxyOqy8L9"
   },
   "source": [
    "## 02. Predict images:\n",
    "\n",
    "Load the testing set and compute the predictions."
   ]
  },
  {
   "cell_type": "code",
   "execution_count": null,
   "metadata": {
    "colab": {
     "base_uri": "https://localhost:8080/",
     "height": 436
    },
    "executionInfo": {
     "elapsed": 782425,
     "status": "ok",
     "timestamp": 1674582787097,
     "user": {
      "displayName": "Vicente Castro",
      "userId": "02943233680137416518"
     },
     "user_tz": -60
    },
    "id": "1C7CqaQI_jkQ",
    "outputId": "f205a273-e640-4f1d-bf28-141b04aac023",
    "tags": []
   },
   "outputs": [],
   "source": [
    "testing_results = []\n",
    "for image_name in tqdm( TEST_FILENAMES ):\n",
    "    image_path = os.path.join( TEST_DATA_DIR, image_name )\n",
    "    \n",
    "    tensor_image = tf.expand_dims( load_image( image_path ), axis=0)\n",
    "    model_output = tf.argmax( final_model(tensor_image), axis=1)[0]\n",
    "    output_label = CLASS_NAMES[model_output]\n",
    "    testing_results.append( {'file': image_name, 'label': output_label})\n",
    "    \n",
    "# store file\n",
    "testing_results = pd.DataFrame.from_records( testing_results )\n",
    "testing_results.to_csv('test_results.csv', index=False)\n",
    "testing_results"
   ]
  },
  {
   "cell_type": "markdown",
   "metadata": {},
   "source": [
    "Show the distribution of classes. It should be similar to the training distribution."
   ]
  },
  {
   "cell_type": "code",
   "execution_count": 21,
   "metadata": {
    "colab": {
     "base_uri": "https://localhost:8080/",
     "height": 296
    },
    "executionInfo": {
     "elapsed": 442,
     "status": "ok",
     "timestamp": 1674582821114,
     "user": {
      "displayName": "Vicente Castro",
      "userId": "02943233680137416518"
     },
     "user_tz": -60
    },
    "id": "tWP2LbcH6ZLp",
    "outputId": "98ed1413-5b9d-4b14-8678-ab3a38b88a6c",
    "tags": []
   },
   "outputs": [
    {
     "data": {
      "image/png": "[encoded data removed]",
      "text/plain": [
       "<Figure size 640x480 with 1 Axes>"
      ]
     },
     "metadata": {},
     "output_type": "display_data"
    }
   ],
   "source": [
    "sns.histplot(data=testing_results, x='label')\n",
    "plt.show()"
   ]
  },
  {
   "cell_type": "markdown",
   "metadata": {
    "tags": []
   },
   "source": [
    "### 2.1 Check predictions:\n",
    "\n",
    "In this case we compute the score ( if the input set has labels )."
   ]
  },
  {
   "cell_type": "code",
   "execution_count": 28,
   "metadata": {
    "executionInfo": {
     "elapsed": 4,
     "status": "ok",
     "timestamp": 1674582937446,
     "user": {
      "displayName": "Vicente Castro",
      "userId": "02943233680137416518"
     },
     "user_tz": -60
    },
    "id": "Yf_akTV166W1",
    "tags": []
   },
   "outputs": [
    {
     "data": {
      "text/html": [
       "<div>\n",
       "<style scoped>\n",
       "    .dataframe tbody tr th:only-of-type {\n",
       "        vertical-align: middle;\n",
       "    }\n",
       "\n",
       "    .dataframe tbody tr th {\n",
       "        vertical-align: top;\n",
       "    }\n",
       "\n",
       "    .dataframe thead th {\n",
       "        text-align: right;\n",
       "    }\n",
       "</style>\n",
       "<table border=\"1\" class=\"dataframe\">\n",
       "  <thead>\n",
       "    <tr style=\"text-align: right;\">\n",
       "      <th></th>\n",
       "      <th>file</th>\n",
       "      <th>prediction</th>\n",
       "      <th>label</th>\n",
       "      <th>patient_id</th>\n",
       "    </tr>\n",
       "  </thead>\n",
       "  <tbody>\n",
       "    <tr>\n",
       "      <th>0</th>\n",
       "      <td>P00002_1.png</td>\n",
       "      <td>N</td>\n",
       "      <td>N</td>\n",
       "      <td>P00002</td>\n",
       "    </tr>\n",
       "    <tr>\n",
       "      <th>1</th>\n",
       "      <td>P00003_1.png</td>\n",
       "      <td>N</td>\n",
       "      <td>N</td>\n",
       "      <td>P00003</td>\n",
       "    </tr>\n",
       "    <tr>\n",
       "      <th>2</th>\n",
       "      <td>P00004_1.jpeg</td>\n",
       "      <td>N</td>\n",
       "      <td>N</td>\n",
       "      <td>P00004</td>\n",
       "    </tr>\n",
       "    <tr>\n",
       "      <th>3</th>\n",
       "      <td>P00006_1.png</td>\n",
       "      <td>N</td>\n",
       "      <td>N</td>\n",
       "      <td>P00006</td>\n",
       "    </tr>\n",
       "    <tr>\n",
       "      <th>4</th>\n",
       "      <td>P00006_2.png</td>\n",
       "      <td>N</td>\n",
       "      <td>N</td>\n",
       "      <td>P00006</td>\n",
       "    </tr>\n",
       "    <tr>\n",
       "      <th>...</th>\n",
       "      <td>...</td>\n",
       "      <td>...</td>\n",
       "      <td>...</td>\n",
       "      <td>...</td>\n",
       "    </tr>\n",
       "    <tr>\n",
       "      <th>3100</th>\n",
       "      <td>P16077_1.png</td>\n",
       "      <td>N</td>\n",
       "      <td>N</td>\n",
       "      <td>P16077</td>\n",
       "    </tr>\n",
       "    <tr>\n",
       "      <th>3101</th>\n",
       "      <td>P16082_1.png</td>\n",
       "      <td>N</td>\n",
       "      <td>N</td>\n",
       "      <td>P16082</td>\n",
       "    </tr>\n",
       "    <tr>\n",
       "      <th>3102</th>\n",
       "      <td>P16085_1.png</td>\n",
       "      <td>N</td>\n",
       "      <td>N</td>\n",
       "      <td>P16085</td>\n",
       "    </tr>\n",
       "    <tr>\n",
       "      <th>3103</th>\n",
       "      <td>P16104_1.png</td>\n",
       "      <td>N</td>\n",
       "      <td>N</td>\n",
       "      <td>P16104</td>\n",
       "    </tr>\n",
       "    <tr>\n",
       "      <th>3104</th>\n",
       "      <td>P16111_1.png</td>\n",
       "      <td>N</td>\n",
       "      <td>N</td>\n",
       "      <td>P16111</td>\n",
       "    </tr>\n",
       "  </tbody>\n",
       "</table>\n",
       "<p>3105 rows × 4 columns</p>\n",
       "</div>"
      ],
      "text/plain": [
       "               file prediction label patient_id\n",
       "0      P00002_1.png          N     N     P00002\n",
       "1      P00003_1.png          N     N     P00003\n",
       "2     P00004_1.jpeg          N     N     P00004\n",
       "3      P00006_1.png          N     N     P00006\n",
       "4      P00006_2.png          N     N     P00006\n",
       "...             ...        ...   ...        ...\n",
       "3100   P16077_1.png          N     N     P16077\n",
       "3101   P16082_1.png          N     N     P16082\n",
       "3102   P16085_1.png          N     N     P16085\n",
       "3103   P16104_1.png          N     N     P16104\n",
       "3104   P16111_1.png          N     N     P16111\n",
       "\n",
       "[3105 rows x 4 columns]"
      ]
     },
     "execution_count": 28,
     "metadata": {},
     "output_type": "execute_result"
    }
   ],
   "source": [
    "test_files = os.path.join('..', 'data', 'testing_set.csv')\n",
    "test_data = pd.read_csv(test_files)\n",
    "\n",
    "# change name\n",
    "merged_results = testing_results.merge( test_data, on='file').rename({'label_x': 'prediction', 'label_y': 'label'}, axis=1)\n",
    "merged_results"
   ]
  },
  {
   "cell_type": "code",
   "execution_count": 29,
   "metadata": {
    "tags": []
   },
   "outputs": [
    {
     "data": {
      "text/plain": [
       "array([0.9889992 , 0.99882214, 0.95031847])"
      ]
     },
     "execution_count": 29,
     "metadata": {},
     "output_type": "execute_result"
    }
   ],
   "source": [
    "from sklearn.metrics import f1_score\n",
    "\n",
    "f1_score( merged_results['label'].values, merged_results['prediction'].values, average=None )"
   ]
  }
 ],
 "metadata": {
  "accelerator": "GPU",
  "colab": {
   "collapsed_sections": [
    "O_k7wKpKXzRa",
    "pInm5Jt4GAdI",
    "js5e_C7UphkJ"
   ],
   "provenance": []
  },
  "gpuClass": "standard",
  "kernelspec": {
   "display_name": "Python 3 (ipykernel)",
   "language": "python",
   "name": "python3"
  },
  "language_info": {
   "codemirror_mode": {
    "name": "ipython",
    "version": 3
   },
   "file_extension": ".py",
   "mimetype": "text/x-python",
   "name": "python",
   "nbconvert_exporter": "python",
   "pygments_lexer": "ipython3",
   "version": "3.11.4"
  }
 },
 "nbformat": 4,
 "nbformat_minor": 4
}
